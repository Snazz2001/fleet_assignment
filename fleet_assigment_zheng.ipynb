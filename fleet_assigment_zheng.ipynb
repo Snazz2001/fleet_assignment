{
 "cells": [
  {
   "cell_type": "markdown",
   "id": "5a4abb65",
   "metadata": {},
   "source": [
    "### During a discussion with Sinan from Etihad, a significant Fleet Assignment Problem was outlined. In the aviation industry, aircraft require regular maintenance, which can disrupt flight schedules. To ensure operational continuity, alternate aircraft are assigned to cover these routes. The challenge lies in optimizing this assignment, as it is constrained by factors such as pilot availability, aircraft availability and capacity, and cost. This process is currently handled manually. Based on our initial conversation, I propose the following code to address this problem."
   ]
  },
  {
   "cell_type": "code",
   "execution_count": null,
   "id": "add6bb41",
   "metadata": {},
   "outputs": [],
   "source": []
  },
  {
   "cell_type": "code",
   "execution_count": 19,
   "id": "9cf8717d",
   "metadata": {},
   "outputs": [],
   "source": [
    "from pulp import *"
   ]
  },
  {
   "cell_type": "code",
   "execution_count": 24,
   "id": "c08204c6",
   "metadata": {},
   "outputs": [],
   "source": [
    "# Define the problem data\n",
    "flights = ['JFK_LAX', 'JFK_LHR', 'LAX_HND']\n",
    "fleet_types = ['737', '787']\n",
    "pilots = ['a', 'b', 'c', 'd']\n",
    "\n",
    "pilot_qualifications = {\n",
    "    'a': ['737'],\n",
    "    'b': ['737', '787'],\n",
    "    'c': ['787'],\n",
    "    'd': ['737']\n",
    "}\n",
    "\n",
    "fleet_cost = {'737': 50000, '787': 100000}\n",
    "fleet_capacity = {'737': 150, '787': 300}\n",
    "flight_demand = {'JFK_LAX': 140, 'JFK_LHR': 145, 'LAX_HND': 250}\n",
    "\n",
    "# Number of available aircraft of each fleet type\n",
    "available_fleets = {\n",
    "    '737': 3,  # We have 3 available 737 aircraft\n",
    "    '787': 1   # We have 1 available 787 aircraft\n",
    "}\n",
    "\n",
    "prob = LpProblem(\"FleetAndPilotAssignment\", LpMinimize)"
   ]
  },
  {
   "cell_type": "code",
   "execution_count": 25,
   "id": "20cb5a7f",
   "metadata": {},
   "outputs": [],
   "source": [
    "# Decision Variables\n",
    "x = LpVariable.dicts(\"FleetAssignment\", [(f, t) for f in flights for t in fleet_types], 0, 1, LpBinary)\n",
    "y = LpVariable.dicts(\"PilotAssignment\", [(p, f) for p in pilots for f in flights], 0, 1, LpBinary)\n",
    "\n",
    "# Objective Function: Minimize total cost\n",
    "prob += lpSum(x[f, t] * fleet_cost[t] for f in flights for t in fleet_types)\n"
   ]
  },
  {
   "cell_type": "code",
   "execution_count": 26,
   "id": "0051092d",
   "metadata": {},
   "outputs": [],
   "source": [
    "# Constraints\n",
    "# 1. Each flight must be assigned to exactly one fleet type\n",
    "for f in flights:\n",
    "    prob += lpSum(x[f, t] for t in fleet_types) == 1\n",
    "\n",
    "# 2. The assigned fleet must have enough capacity\n",
    "for f in flights:\n",
    "    prob += lpSum(x[f, t] * fleet_capacity[t] for t in fleet_types) >= flight_demand[f]\n",
    "\n",
    "# 3. Each flight must be assigned to exactly one pilot\n",
    "for f in flights:\n",
    "    prob += lpSum(y[p, f] for p in pilots) == 1\n",
    "\n",
    "# 4. A pilot can only be assigned to a flight if their assigned fleet matches their qualification.\n",
    "# This constraint enforces the link between fleet and pilot assignment.\n",
    "for f in flights:\n",
    "    for t in fleet_types:\n",
    "        for p in pilots:\n",
    "            if t not in pilot_qualifications[p]:\n",
    "                prob += x[f, t] + y[p, f] <= 1\n",
    "                \n",
    "# 5. A pilot can only be assigned to at most one flight\n",
    "for p in pilots:\n",
    "    prob += lpSum(y[p, f] for f in flights) <= 1\n",
    "    \n",
    "# 6. The number of flights assigned to a fleet type cannot exceed the number of available aircraft\n",
    "for t in fleet_types:\n",
    "    prob += lpSum(x[f, t] for f in flights) <= available_fleets[t]"
   ]
  },
  {
   "cell_type": "code",
   "execution_count": 29,
   "id": "ba93d301",
   "metadata": {},
   "outputs": [
    {
     "name": "stdout",
     "output_type": "stream",
     "text": [
      "Status: Optimal\n",
      "\n",
      "Total Minimum Cost: $200,000.00\n",
      "\n",
      "Optimal Assignments:\n",
      "- Flight JFK_LAX is assigned to a 737\n",
      "  - Pilot b is assigned to Flight JFK_LAX\n",
      "- Flight JFK_LHR is assigned to a 737\n",
      "  - Pilot d is assigned to Flight JFK_LHR\n",
      "- Flight LAX_HND is assigned to a 787\n",
      "  - Pilot c is assigned to Flight LAX_HND\n"
     ]
    }
   ],
   "source": [
    "# Solve the problem\n",
    "prob.solve()\n",
    "\n",
    "# Print the results\n",
    "print(\"Status:\", LpStatus[prob.status])\n",
    "print(f\"\\nTotal Minimum Cost: ${prob.objective.value():,.2f}\")\n",
    "print(\"\\nOptimal Assignments:\")\n",
    "for f in flights:\n",
    "    for t in fleet_types:\n",
    "        if x[f, t].varValue == 1:\n",
    "            print(f\"- Flight {f} is assigned to a {t}\")\n",
    "    for p in pilots:\n",
    "        if y[p, f].varValue == 1:\n",
    "            print(f\"  - Pilot {p} is assigned to Flight {f}\")\n"
   ]
  },
  {
   "cell_type": "code",
   "execution_count": null,
   "id": "546ec733",
   "metadata": {},
   "outputs": [],
   "source": []
  }
 ],
 "metadata": {
  "kernelspec": {
   "display_name": "Python 3 (ipykernel)",
   "language": "python",
   "name": "python3"
  },
  "language_info": {
   "codemirror_mode": {
    "name": "ipython",
    "version": 3
   },
   "file_extension": ".py",
   "mimetype": "text/x-python",
   "name": "python",
   "nbconvert_exporter": "python",
   "pygments_lexer": "ipython3",
   "version": "3.11.7"
  }
 },
 "nbformat": 4,
 "nbformat_minor": 5
}
